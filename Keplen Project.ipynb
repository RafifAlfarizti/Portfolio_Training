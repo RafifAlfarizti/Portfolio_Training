{
 "cells": [
  {
   "cell_type": "code",
   "execution_count": 1,
   "id": "8a253f32",
   "metadata": {},
   "outputs": [],
   "source": [
    "import numpy as np\n",
    "import pandas as pd\n",
    "from sklearn.metrics import cohen_kappa_score"
   ]
  },
  {
   "cell_type": "code",
   "execution_count": 2,
   "id": "98e783ca",
   "metadata": {},
   "outputs": [],
   "source": [
    "# Data rata-rata\n",
    "ugm_avg = [673.08, 894.40, 695.21, 513.83, 704.32, 604.06, 415.76, 382.25, 484.65, 506.56, 286.87, 391.18, 498.08, 412.22]\n",
    "undip_avg = [159.83, 273.33, 179.97, 161.96, 190.19, 140.42, 149.02, 162.29, 202.61, 191.17, 189.75, 149.70, 187.24, 159.66]\n"
   ]
  },
  {
   "cell_type": "code",
   "execution_count": 3,
   "id": "10bde5a4",
   "metadata": {},
   "outputs": [],
   "source": [
    "# Kategorisasi data (misalnya: 0 = rendah, 1 = sedang, 2 = tinggi)\n",
    "def categorize(value):\n",
    "    if value < 300:\n",
    "        return 0  # Rendah\n",
    "    elif value < 600:\n",
    "        return 1  # Sedang\n",
    "    else:\n",
    "        return 2  # Tinggi"
   ]
  },
  {
   "cell_type": "code",
   "execution_count": 4,
   "id": "f360da53",
   "metadata": {},
   "outputs": [],
   "source": [
    "ugm_cat = [categorize(val) for val in ugm_avg]\n",
    "undip_cat = [categorize(val) for val in undip_avg]"
   ]
  },
  {
   "cell_type": "code",
   "execution_count": 5,
   "id": "7f464771",
   "metadata": {},
   "outputs": [
    {
     "data": {
      "text/plain": [
       "0.0"
      ]
     },
     "execution_count": 5,
     "metadata": {},
     "output_type": "execute_result"
    }
   ],
   "source": [
    "# Hitung Cohen's Kappa\n",
    "kappa_score = cohen_kappa_score(ugm_cat, undip_cat)\n",
    "kappa_score"
   ]
  },
  {
   "cell_type": "markdown",
   "id": "4c50b3de",
   "metadata": {},
   "source": [
    "# Two Sample T Test Independent"
   ]
  },
  {
   "cell_type": "code",
   "execution_count": 7,
   "id": "7ce27df6",
   "metadata": {},
   "outputs": [],
   "source": [
    "from scipy import stats"
   ]
  },
  {
   "cell_type": "code",
   "execution_count": 8,
   "id": "37e112ce",
   "metadata": {},
   "outputs": [
    {
     "name": "stdout",
     "output_type": "stream",
     "text": [
      "T-statistic: 7.954831512235475\n",
      "P-value: 1.9667240825930664e-08\n"
     ]
    }
   ],
   "source": [
    "t_stat, p_value = stats.ttest_ind(ugm_avg,undip_avg)\n",
    "\n",
    "# Interpretasi hasil\n",
    "print(f\"T-statistic: {t_stat}\")\n",
    "print(f\"P-value: {p_value}\")"
   ]
  },
  {
   "cell_type": "markdown",
   "id": "b6f4a4df",
   "metadata": {},
   "source": [
    "Penarikan kesimpulan"
   ]
  },
  {
   "cell_type": "code",
   "execution_count": 9,
   "id": "326f83d0",
   "metadata": {},
   "outputs": [
    {
     "name": "stdout",
     "output_type": "stream",
     "text": [
      "Terdapat perbedaan yang signifikan antara dua sampel.\n"
     ]
    }
   ],
   "source": [
    "if p_value < 0.05:\n",
    "    print(\"Terdapat perbedaan yang signifikan antara dua sampel.\")\n",
    "else:\n",
    "    print(\"Tidak terdapat perbedaan yang signifikan antara dua sampel.\")"
   ]
  },
  {
   "cell_type": "markdown",
   "id": "77b67d35",
   "metadata": {},
   "source": [
    "# Uji Kontrol"
   ]
  },
  {
   "cell_type": "code",
   "execution_count": 10,
   "id": "85e1b9ab",
   "metadata": {},
   "outputs": [
    {
     "data": {
      "text/plain": [
       "(3.375210498028608, 0.005516796396392764)"
      ]
     },
     "execution_count": 10,
     "metadata": {},
     "output_type": "execute_result"
    }
   ],
   "source": [
    "import pandas as pd\n",
    "from scipy import stats\n",
    "\n",
    "# Data \n",
    "data = {\n",
    "    'Kode': ['K.1.1', 'K.1.2', 'K.1.3', 'K.1.4', 'K.1.5', 'K.1.6', 'K.1.7', \n",
    "             'K.2.1', 'K.2.2', 'K.2.3', 'K.2.4', 'K.2.5', 'K.2.6', 'K.2.7'],\n",
    "    '1': [600.53, 862.69, 583.29, 574.23, 746.28, 799.3, 357.23, 454.16, 436.1, 593.63, 304.2, 317.94, 352.23, 252.35],\n",
    "    '2': [403.5, 876.15, 773.07, 502.36, 817.3, 420.22, 352.03, 377.88, 423.42, 541.82, 332.06, 338.17, 509.51, 433.09],\n",
    "    '3': [1008.08, 1018.05, 633.93, 484.48, 820.35, 587.18, 477.03, 372.88, 540.07, 500.21, 339.53, 306.76, 549.09, 508.7],\n",
    "    '4': [991.27, 1017.38, 741.45, 456.98, 643.23, 759.19, 440.37, 313.6, 585.94, 527.12, 244.28, 391.18, 614.36, 454.06],\n",
    "    '5': [616.06, 765.62, 794.45, 528.8, 695.39, 443.96, 445.48, 330.65, 416.28, 415.34, 212.57, 445, 495.81, 515.94],\n",
    "    '6': [419.05, 826.49, 645.08, 536.12, 503.34, 614.48, 422.4, 444.3, 506.06, 461.23, 288.6, 548.05, 467.49, 309.17]\n",
    "}\n",
    "\n",
    "# Convert to DataFrame\n",
    "df = pd.DataFrame(data)\n",
    "\n",
    "# Calculate the average for each row\n",
    "df['Average'] = df[['1', '2', '3', '4', '5', '6']].mean(axis=1)\n",
    "\n",
    "# Separate control and treatment groups\n",
    "control_group = df.loc[0:6, 'Average']\n",
    "treatment_group = df.loc[7:13, 'Average']\n",
    "\n",
    "# Perform independent t-test\n",
    "t_stat, p_val = stats.ttest_ind(control_group, treatment_group)\n",
    "\n",
    "t_stat, p_val"
   ]
  },
  {
   "cell_type": "markdown",
   "id": "ce81421a",
   "metadata": {},
   "source": [
    "t-statistik: Nilai t-statistik sebesar 3.375 menunjukkan besarnya perbedaan relatif terhadap variasi dalam data sampel. Nilai absolut yang lebih besar menunjukkan perbedaan yang lebih signifikan antara dua kelompok. <br>\n",
    "\n",
    "nilai-p: Nilai p sebesar 0.0055 lebih kecil dari tingkat signifikansi yang umum digunakan yaitu 0.05. Ini berarti terdapat perbedaan yang signifikan secara statistik antara kelompok kontrol (K1) dan kelompok perlakuan (K2)."
   ]
  },
  {
   "cell_type": "code",
   "execution_count": 11,
   "id": "64be0b94",
   "metadata": {},
   "outputs": [
    {
     "data": {
      "text/plain": [
       "(0.5049194684278471, 0.6227597455164491)"
      ]
     },
     "execution_count": 11,
     "metadata": {},
     "output_type": "execute_result"
    }
   ],
   "source": [
    "# New dataset\n",
    "data_new = {\n",
    "    'Kode': ['K.1.1', 'K.1.2', 'K.1.3', 'K.1.4', 'K.1.5', 'K.1.6', 'K.1.7', \n",
    "             'K.2.1', 'K.2.2', 'K.2.3', 'K.2.4', 'K.2.5', 'K.2.6', 'K.2.7'],\n",
    "    '1': [204.66, 296.2, 190.22, 174.7, 216.33, 141.25, 147.08, 176.35, 200.33, 195.09, 174.18, 119.19, 183.14, 145.19],\n",
    "    '2': [118.16, 300.07, 188.7, 170.77, 201.94, 143.79, 151.18, 182.72, 205.54, 192, 182.9, 122.6, 178.36, 150.28],\n",
    "    '3': [112.65, 315.46, 183.31, 140.42, 161.12, 136.22, 148.8, 152.67, 201.96, 186.43, 182.06, 127.24, 175.14, 141.8],\n",
    "    '4': [122.43, 228.67, 201.33, 154.6, 154.6, 136.22, 148.8, 155.72, 201.96, 186.43, 182.06, 134.68, 173.22, 145.91],\n",
    "    '5': [203.26, 239.82, 177.31, 222.33, 222.33, 154.6, 147.31, 147.31, 201.96, 186.43, 182.06, 134.68, 173.22, 145.91],\n",
    "    '6': [197.83, 259.73, 138.95, 138.95, 138.95, 136.22, 148.8, 155.72, 201.96, 186.43, 182.06, 134.68, 173.22, 145.91]\n",
    "}\n",
    "\n",
    "# Convert to DataFrame\n",
    "df_new = pd.DataFrame(data_new)\n",
    "\n",
    "# Calculate the average for each row\n",
    "df_new['Average'] = df_new[['1', '2', '3', '4', '5', '6']].mean(axis=1)\n",
    "\n",
    "# Separate control and treatment groups\n",
    "control_group_new = df_new.loc[0:6, 'Average']\n",
    "treatment_group_new = df_new.loc[7:13, 'Average']\n",
    "\n",
    "# Perform independent t-test\n",
    "t_stat_new, p_val_new = stats.ttest_ind(control_group_new, treatment_group_new)\n",
    "\n",
    "t_stat_new, p_val_new"
   ]
  },
  {
   "cell_type": "markdown",
   "id": "0c5d2bec",
   "metadata": {},
   "source": [
    "t-statistik: Nilai t-statistik sebesar 0.505 menunjukkan besarnya perbedaan relatif terhadap variasi dalam data sampel. Nilai absolut yang kecil menunjukkan perbedaan yang tidak signifikan antara dua kelompok. <br>\n",
    "\n",
    "nilai-p: Nilai p sebesar 0.623 lebih besar dari tingkat signifikansi yang umum digunakan yaitu 0.05. Ini berarti tidak terdapat perbedaan yang signifikan secara statistik antara kelompok kontrol (K1) dan kelompok perlakuan (K2)."
   ]
  },
  {
   "cell_type": "code",
   "execution_count": 12,
   "id": "4b72be9a",
   "metadata": {},
   "outputs": [
    {
     "data": {
      "text/html": [
       "<div>\n",
       "<style scoped>\n",
       "    .dataframe tbody tr th:only-of-type {\n",
       "        vertical-align: middle;\n",
       "    }\n",
       "\n",
       "    .dataframe tbody tr th {\n",
       "        vertical-align: top;\n",
       "    }\n",
       "\n",
       "    .dataframe thead th {\n",
       "        text-align: right;\n",
       "    }\n",
       "</style>\n",
       "<table border=\"1\" class=\"dataframe\">\n",
       "  <thead>\n",
       "    <tr style=\"text-align: right;\">\n",
       "      <th></th>\n",
       "      <th>Kode</th>\n",
       "      <th>1</th>\n",
       "      <th>2</th>\n",
       "      <th>3</th>\n",
       "      <th>4</th>\n",
       "      <th>5</th>\n",
       "      <th>6</th>\n",
       "      <th>Average</th>\n",
       "    </tr>\n",
       "  </thead>\n",
       "  <tbody>\n",
       "    <tr>\n",
       "      <th>0</th>\n",
       "      <td>K.1.1</td>\n",
       "      <td>204.66</td>\n",
       "      <td>118.16</td>\n",
       "      <td>112.65</td>\n",
       "      <td>122.43</td>\n",
       "      <td>203.26</td>\n",
       "      <td>197.83</td>\n",
       "      <td>159.831667</td>\n",
       "    </tr>\n",
       "    <tr>\n",
       "      <th>1</th>\n",
       "      <td>K.1.2</td>\n",
       "      <td>296.20</td>\n",
       "      <td>300.07</td>\n",
       "      <td>315.46</td>\n",
       "      <td>228.67</td>\n",
       "      <td>239.82</td>\n",
       "      <td>259.73</td>\n",
       "      <td>273.325000</td>\n",
       "    </tr>\n",
       "    <tr>\n",
       "      <th>2</th>\n",
       "      <td>K.1.3</td>\n",
       "      <td>190.22</td>\n",
       "      <td>188.70</td>\n",
       "      <td>183.31</td>\n",
       "      <td>201.33</td>\n",
       "      <td>177.31</td>\n",
       "      <td>138.95</td>\n",
       "      <td>179.970000</td>\n",
       "    </tr>\n",
       "    <tr>\n",
       "      <th>3</th>\n",
       "      <td>K.1.4</td>\n",
       "      <td>174.70</td>\n",
       "      <td>170.77</td>\n",
       "      <td>140.42</td>\n",
       "      <td>154.60</td>\n",
       "      <td>222.33</td>\n",
       "      <td>138.95</td>\n",
       "      <td>166.961667</td>\n",
       "    </tr>\n",
       "    <tr>\n",
       "      <th>4</th>\n",
       "      <td>K.1.5</td>\n",
       "      <td>216.33</td>\n",
       "      <td>201.94</td>\n",
       "      <td>161.12</td>\n",
       "      <td>154.60</td>\n",
       "      <td>222.33</td>\n",
       "      <td>138.95</td>\n",
       "      <td>182.545000</td>\n",
       "    </tr>\n",
       "    <tr>\n",
       "      <th>5</th>\n",
       "      <td>K.1.6</td>\n",
       "      <td>141.25</td>\n",
       "      <td>143.79</td>\n",
       "      <td>136.22</td>\n",
       "      <td>136.22</td>\n",
       "      <td>154.60</td>\n",
       "      <td>136.22</td>\n",
       "      <td>141.383333</td>\n",
       "    </tr>\n",
       "    <tr>\n",
       "      <th>6</th>\n",
       "      <td>K.1.7</td>\n",
       "      <td>147.08</td>\n",
       "      <td>151.18</td>\n",
       "      <td>148.80</td>\n",
       "      <td>148.80</td>\n",
       "      <td>147.31</td>\n",
       "      <td>148.80</td>\n",
       "      <td>148.661667</td>\n",
       "    </tr>\n",
       "    <tr>\n",
       "      <th>7</th>\n",
       "      <td>K.2.1</td>\n",
       "      <td>176.35</td>\n",
       "      <td>182.72</td>\n",
       "      <td>152.67</td>\n",
       "      <td>155.72</td>\n",
       "      <td>147.31</td>\n",
       "      <td>155.72</td>\n",
       "      <td>161.748333</td>\n",
       "    </tr>\n",
       "    <tr>\n",
       "      <th>8</th>\n",
       "      <td>K.2.2</td>\n",
       "      <td>200.33</td>\n",
       "      <td>205.54</td>\n",
       "      <td>201.96</td>\n",
       "      <td>201.96</td>\n",
       "      <td>201.96</td>\n",
       "      <td>201.96</td>\n",
       "      <td>202.285000</td>\n",
       "    </tr>\n",
       "    <tr>\n",
       "      <th>9</th>\n",
       "      <td>K.2.3</td>\n",
       "      <td>195.09</td>\n",
       "      <td>192.00</td>\n",
       "      <td>186.43</td>\n",
       "      <td>186.43</td>\n",
       "      <td>186.43</td>\n",
       "      <td>186.43</td>\n",
       "      <td>188.801667</td>\n",
       "    </tr>\n",
       "    <tr>\n",
       "      <th>10</th>\n",
       "      <td>K.2.4</td>\n",
       "      <td>174.18</td>\n",
       "      <td>182.90</td>\n",
       "      <td>182.06</td>\n",
       "      <td>182.06</td>\n",
       "      <td>182.06</td>\n",
       "      <td>182.06</td>\n",
       "      <td>180.886667</td>\n",
       "    </tr>\n",
       "    <tr>\n",
       "      <th>11</th>\n",
       "      <td>K.2.5</td>\n",
       "      <td>119.19</td>\n",
       "      <td>122.60</td>\n",
       "      <td>127.24</td>\n",
       "      <td>134.68</td>\n",
       "      <td>134.68</td>\n",
       "      <td>134.68</td>\n",
       "      <td>128.845000</td>\n",
       "    </tr>\n",
       "    <tr>\n",
       "      <th>12</th>\n",
       "      <td>K.2.6</td>\n",
       "      <td>183.14</td>\n",
       "      <td>178.36</td>\n",
       "      <td>175.14</td>\n",
       "      <td>173.22</td>\n",
       "      <td>173.22</td>\n",
       "      <td>173.22</td>\n",
       "      <td>176.050000</td>\n",
       "    </tr>\n",
       "    <tr>\n",
       "      <th>13</th>\n",
       "      <td>K.2.7</td>\n",
       "      <td>145.19</td>\n",
       "      <td>150.28</td>\n",
       "      <td>141.80</td>\n",
       "      <td>145.91</td>\n",
       "      <td>145.91</td>\n",
       "      <td>145.91</td>\n",
       "      <td>145.833333</td>\n",
       "    </tr>\n",
       "  </tbody>\n",
       "</table>\n",
       "</div>"
      ],
      "text/plain": [
       "     Kode       1       2       3       4       5       6     Average\n",
       "0   K.1.1  204.66  118.16  112.65  122.43  203.26  197.83  159.831667\n",
       "1   K.1.2  296.20  300.07  315.46  228.67  239.82  259.73  273.325000\n",
       "2   K.1.3  190.22  188.70  183.31  201.33  177.31  138.95  179.970000\n",
       "3   K.1.4  174.70  170.77  140.42  154.60  222.33  138.95  166.961667\n",
       "4   K.1.5  216.33  201.94  161.12  154.60  222.33  138.95  182.545000\n",
       "5   K.1.6  141.25  143.79  136.22  136.22  154.60  136.22  141.383333\n",
       "6   K.1.7  147.08  151.18  148.80  148.80  147.31  148.80  148.661667\n",
       "7   K.2.1  176.35  182.72  152.67  155.72  147.31  155.72  161.748333\n",
       "8   K.2.2  200.33  205.54  201.96  201.96  201.96  201.96  202.285000\n",
       "9   K.2.3  195.09  192.00  186.43  186.43  186.43  186.43  188.801667\n",
       "10  K.2.4  174.18  182.90  182.06  182.06  182.06  182.06  180.886667\n",
       "11  K.2.5  119.19  122.60  127.24  134.68  134.68  134.68  128.845000\n",
       "12  K.2.6  183.14  178.36  175.14  173.22  173.22  173.22  176.050000\n",
       "13  K.2.7  145.19  150.28  141.80  145.91  145.91  145.91  145.833333"
      ]
     },
     "execution_count": 12,
     "metadata": {},
     "output_type": "execute_result"
    }
   ],
   "source": [
    "df_new"
   ]
  },
  {
   "cell_type": "code",
   "execution_count": null,
   "id": "07d05415",
   "metadata": {},
   "outputs": [],
   "source": []
  }
 ],
 "metadata": {
  "kernelspec": {
   "display_name": "Python 3 (ipykernel)",
   "language": "python",
   "name": "python3"
  },
  "language_info": {
   "codemirror_mode": {
    "name": "ipython",
    "version": 3
   },
   "file_extension": ".py",
   "mimetype": "text/x-python",
   "name": "python",
   "nbconvert_exporter": "python",
   "pygments_lexer": "ipython3",
   "version": "3.11.5"
  }
 },
 "nbformat": 4,
 "nbformat_minor": 5
}
